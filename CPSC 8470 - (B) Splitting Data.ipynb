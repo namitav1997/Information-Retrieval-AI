{
 "cells": [
  {
   "cell_type": "code",
   "execution_count": null,
   "metadata": {},
   "outputs": [],
   "source": [
    "This is to:\n",
    "1. Consolidate the dataset across the four categories\n",
    "2. Split the dataset to Train/Test\n",
    "\n",
    "The 'Fashion Landmark' one was used to retrieve counts of paired attributes for the recommender system portion."
   ]
  },
  {
   "cell_type": "code",
   "execution_count": 7,
   "metadata": {
    "collapsed": true
   },
   "outputs": [],
   "source": [
    "import os\n",
    "import numpy as np\n",
    "from sklearn.model_selection import train_test_split"
   ]
  },
  {
   "cell_type": "code",
   "execution_count": 8,
   "metadata": {
    "collapsed": true
   },
   "outputs": [],
   "source": [
    "pwd = os.getcwd()\n",
    "output_path = pwd + '/Data/All/'\n",
    "\n",
    "train_path = pwd + '/Data/Train/'\n",
    "test_path = pwd + '/Data/Test/'\n",
    "if not os.path.exists(train_path):\n",
    "    os.makedirs(train_path)\n",
    "if not os.path.exists(test_path):\n",
    "    os.makedirs(test_path)"
   ]
  },
  {
   "cell_type": "code",
   "execution_count": 9,
   "metadata": {
    "collapsed": true
   },
   "outputs": [],
   "source": [
    "all_files = ['d-category-all.txt', 'd-consumer-all.txt', \n",
    "            'd-inshop-all.txt', 'd-landmark-all.txt']\n",
    "\n",
    "all_files2 = ['d-category-all.txt', 'd-landmark-all.txt']\n",
    "\n",
    "TEST_SIZE = 0.2"
   ]
  },
  {
   "cell_type": "code",
   "execution_count": 10,
   "metadata": {},
   "outputs": [
    {
     "name": "stdout",
     "output_type": "stream",
     "text": [
      "d-category-all.txt 198672\n",
      "d-consumer-all.txt 193280\n",
      "d-inshop-all.txt 43981\n",
      "d-landmark-all.txt 73003\n"
     ]
    }
   ],
   "source": [
    "# verify length of each files\n",
    "for fname in all_files:\n",
    "    with open(output_path + fname) as f:\n",
    "        print fname, len(f.readlines())  \n",
    "\n",
    "# total-category : 28922\n",
    "# total-consumer : 239557\n",
    "# total-inshop : 52712\n",
    "# total-landmark : 123016\n",
    "\n",
    "# discrepancy in total because \"3\" (full-body) is not included in .txt files"
   ]
  },
  {
   "cell_type": "code",
   "execution_count": 76,
   "metadata": {},
   "outputs": [
    {
     "name": "stdout",
     "output_type": "stream",
     "text": [
      "d-category-all.txt\n",
      "train:  158938\n",
      "test:  39735\n",
      "total:  198673\n",
      "\n",
      "d-consumer-all.txt\n",
      "train:  154624\n",
      "test:  38657\n",
      "total:  193281\n",
      "\n",
      "d-inshop-all.txt\n",
      "train:  35185\n",
      "test:  8797\n",
      "total:  43982\n",
      "\n",
      "d-landmark-all.txt\n",
      "train:  58403\n",
      "test:  14601\n",
      "total:  73004\n",
      "\n"
     ]
    }
   ],
   "source": [
    "# split train/test set\n",
    "for fname in all_files:\n",
    "    with open(output_path + fname) as f:\n",
    "        data = f.read().split('\\n')\n",
    "        data = np.array(data)\n",
    "        \n",
    "        x_train, x_test = train_test_split(data, test_size = TEST_SIZE)\n",
    "        \n",
    "        print fname\n",
    "        print \"train: \", len(x_train)\n",
    "        print \"test: \", len(x_test)\n",
    "        print \"total: \", len(x_train)+len(x_test)\n",
    "        print \"\"\n",
    "        \n",
    "        s, _ =  fname.split('all')\n",
    "        \n",
    "        with open(train_path+s+'train.txt','w') as f_train:\n",
    "            for item in x_train:\n",
    "                if len(item) > 1:\n",
    "                    f_train.write(item + '\\n')\n",
    "        with open(test_path+s+'test.txt','w') as f_test:\n",
    "            for item in x_test:\n",
    "                if len(item) > 1:\n",
    "                    f_test.write(item + '\\n')\n"
   ]
  },
  {
   "cell_type": "markdown",
   "metadata": {},
   "source": [
    "### Concatenate Files"
   ]
  },
  {
   "cell_type": "code",
   "execution_count": 78,
   "metadata": {
    "collapsed": true
   },
   "outputs": [],
   "source": [
    "all_train = ['d-category-train.txt', 'd-consumer-train.txt', \n",
    "            'd-inshop-train.txt', 'd-landmark-train.txt']\n",
    "\n",
    "all_test = ['d-category-test.txt', 'd-consumer-test.txt', \n",
    "            'd-inshop-test.txt', 'd-landmark-test.txt']"
   ]
  },
  {
   "cell_type": "code",
   "execution_count": 79,
   "metadata": {
    "collapsed": true
   },
   "outputs": [],
   "source": [
    "with open(train_path+'d-train.txt', 'w') as outfile:\n",
    "    for fname in all_train:\n",
    "        with open(train_path+fname) as infile:\n",
    "            outfile.write(infile.read())\n",
    "            \n",
    "with open(test_path+'d-test.txt', 'w') as outfile:\n",
    "    for fname in all_test:\n",
    "        with open(test_path+fname) as infile:\n",
    "            outfile.write(infile.read())"
   ]
  },
  {
   "cell_type": "code",
   "execution_count": 81,
   "metadata": {
    "collapsed": true
   },
   "outputs": [],
   "source": [
    "all_train2 = ['d-category-train.txt', 'd-landmark-train.txt']\n",
    "all_test2 = ['d-category-test.txt', 'd-landmark-test.txt']\n",
    "\n",
    "with open(train_path+'d-train2.txt', 'w') as outfile:\n",
    "    for fname in all_train2:\n",
    "        with open(train_path+fname) as infile:\n",
    "            outfile.write(infile.read())\n",
    "            \n",
    "with open(test_path+'d-test2.txt', 'w') as outfile:\n",
    "    for fname in all_test2:\n",
    "        with open(test_path+fname) as infile:\n",
    "            outfile.write(infile.read())"
   ]
  },
  {
   "cell_type": "markdown",
   "metadata": {
    "collapsed": true
   },
   "source": [
    "## Fashion Landmark (Getting Combinations)"
   ]
  },
  {
   "cell_type": "code",
   "execution_count": 5,
   "metadata": {
    "collapsed": true
   },
   "outputs": [],
   "source": [
    "fl_path = pwd + '/Data/FashionLandmark/'\n",
    "if not os.path.exists(fl_path):\n",
    "    os.makedirs(fl_path)\n",
    "    "
   ]
  },
  {
   "cell_type": "code",
   "execution_count": 6,
   "metadata": {},
   "outputs": [
    {
     "name": "stdout",
     "output_type": "stream",
     "text": [
      "train:  18251\n",
      "test:  54753\n",
      "total:  73004\n",
      "\n"
     ]
    }
   ],
   "source": [
    "# split retrieve 10% of fashionlandmark\n",
    "TEST_SIZE2 = 0.75\n",
    "with open(output_path + \"d-landmark-all.txt\") as f:\n",
    "    data = f.read().split('\\n')\n",
    "    data = np.array(data)\n",
    "\n",
    "    x_train, x_test = train_test_split(data, test_size = TEST_SIZE2)\n",
    "\n",
    "    print \"train: \", len(x_train)\n",
    "    print \"test: \", len(x_test)\n",
    "    print \"total: \", len(x_train)+len(x_test)\n",
    "    print \"\"\n",
    "\n",
    "\n",
    "    with open(fl_path+'fl-25.txt','w') as f_train:\n",
    "        for item in x_train:\n",
    "            if len(item) > 1:\n",
    "                f_train.write(item + '\\n')\n",
    "    with open(fl_path+'fl-75.txt','w') as f_test:\n",
    "        for item in x_test:\n",
    "            if len(item) > 1:\n",
    "                f_test.write(item + '\\n')\n"
   ]
  },
  {
   "cell_type": "code",
   "execution_count": null,
   "metadata": {
    "collapsed": true
   },
   "outputs": [],
   "source": []
  }
 ],
 "metadata": {
  "kernelspec": {
   "display_name": "Python 3",
   "language": "python",
   "name": "python3"
  },
  "language_info": {
   "codemirror_mode": {
    "name": "ipython",
    "version": 3
   },
   "file_extension": ".py",
   "mimetype": "text/x-python",
   "name": "python",
   "nbconvert_exporter": "python",
   "pygments_lexer": "ipython3",
   "version": "3.8.3"
  }
 },
 "nbformat": 4,
 "nbformat_minor": 2
}
