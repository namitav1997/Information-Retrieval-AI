{
 "cells": [
  {
   "cell_type": "raw",
   "metadata": {},
   "source": []
  },
  {
   "cell_type": "code",
   "execution_count": 370,
   "metadata": {
    "collapsed": true
   },
   "outputs": [],
   "source": [
    "import os\n",
    "import tqdm as tqdm"
   ]
  },
  {
   "cell_type": "code",
   "execution_count": 371,
   "metadata": {
    "collapsed": true
   },
   "outputs": [],
   "source": [
    "from PIL import Image\n",
    "import numpy as np\n",
    "import time\n",
    "import pandas as pd\n",
    "import tqdm\n",
    "\n",
    "pwd = os.getcwd()\n",
    "category = '/Category and Attribute Prediction Benchmark/'\n",
    "directory = pwd + category\n",
    "pd.options.mode.chained_assignment = None  # default='warn'"
   ]
  },
  {
   "cell_type": "code",
   "execution_count": 372,
   "metadata": {
    "collapsed": true
   },
   "outputs": [],
   "source": [
    "img_category_path2 = directory + 'Anno/list_category_img2.txt'\n",
    "df2 = pd.read_csv(img_category_path2, delim_whitespace= True, header=0, names=['category'])\n",
    "df2['upper_lower'] = ['1' if i< 21 else '3' if i>36 else '2' for i in df2['category']]"
   ]
  },
  {
   "cell_type": "code",
   "execution_count": 373,
   "metadata": {},
   "outputs": [
    {
     "data": {
      "text/html": [
       "<div>\n",
       "<style>\n",
       "    .dataframe thead tr:only-child th {\n",
       "        text-align: right;\n",
       "    }\n",
       "\n",
       "    .dataframe thead th {\n",
       "        text-align: left;\n",
       "    }\n",
       "\n",
       "    .dataframe tbody tr th {\n",
       "        vertical-align: top;\n",
       "    }\n",
       "</style>\n",
       "<table border=\"1\" class=\"dataframe\">\n",
       "  <thead>\n",
       "    <tr style=\"text-align: right;\">\n",
       "      <th></th>\n",
       "      <th>category</th>\n",
       "      <th>upper_lower</th>\n",
       "    </tr>\n",
       "  </thead>\n",
       "  <tbody>\n",
       "    <tr>\n",
       "      <th>img/Sheer_Pleated-Front_Blouse/img_00000001.jpg</th>\n",
       "      <td>3</td>\n",
       "      <td>1</td>\n",
       "    </tr>\n",
       "    <tr>\n",
       "      <th>img/Sheer_Pleated-Front_Blouse/img_00000002.jpg</th>\n",
       "      <td>3</td>\n",
       "      <td>1</td>\n",
       "    </tr>\n",
       "    <tr>\n",
       "      <th>img/Sheer_Pleated-Front_Blouse/img_00000003.jpg</th>\n",
       "      <td>3</td>\n",
       "      <td>1</td>\n",
       "    </tr>\n",
       "    <tr>\n",
       "      <th>img/Sheer_Pleated-Front_Blouse/img_00000004.jpg</th>\n",
       "      <td>3</td>\n",
       "      <td>1</td>\n",
       "    </tr>\n",
       "    <tr>\n",
       "      <th>img/Sheer_Pleated-Front_Blouse/img_00000005.jpg</th>\n",
       "      <td>3</td>\n",
       "      <td>1</td>\n",
       "    </tr>\n",
       "  </tbody>\n",
       "</table>\n",
       "</div>"
      ],
      "text/plain": [
       "                                                 category upper_lower\n",
       "img/Sheer_Pleated-Front_Blouse/img_00000001.jpg         3           1\n",
       "img/Sheer_Pleated-Front_Blouse/img_00000002.jpg         3           1\n",
       "img/Sheer_Pleated-Front_Blouse/img_00000003.jpg         3           1\n",
       "img/Sheer_Pleated-Front_Blouse/img_00000004.jpg         3           1\n",
       "img/Sheer_Pleated-Front_Blouse/img_00000005.jpg         3           1"
      ]
     },
     "execution_count": 373,
     "metadata": {},
     "output_type": "execute_result"
    }
   ],
   "source": [
    "df2.head()"
   ]
  },
  {
   "cell_type": "code",
   "execution_count": 374,
   "metadata": {
    "collapsed": true
   },
   "outputs": [],
   "source": [
    "def order_col(dataframe, show_list = 30):\n",
    "    print dataframe.sum().sort_values(ascending=False)[:show_list]"
   ]
  },
  {
   "cell_type": "code",
   "execution_count": 424,
   "metadata": {
    "collapsed": true
   },
   "outputs": [],
   "source": [
    "df_upper = pd.read_csv('category-upper-all-everything.txt', sep=':')\n",
    "df_lower = pd.read_csv('category-lower-all-everything.txt', sep=':')"
   ]
  },
  {
   "cell_type": "code",
   "execution_count": 425,
   "metadata": {
    "collapsed": true
   },
   "outputs": [],
   "source": [
    "df_upper_cut = pd.read_csv('category-upper-all.txt', sep=':')\n",
    "df_lower_cut = pd.read_csv('category-lower-all.txt', sep=':')"
   ]
  },
  {
   "cell_type": "code",
   "execution_count": 426,
   "metadata": {},
   "outputs": [
    {
     "name": "stdout",
     "output_type": "stream",
     "text": [
      "139709\n",
      "58963\n",
      "3883\n",
      "8336\n"
     ]
    }
   ],
   "source": [
    "all_list = [df_upper,df_lower,df_upper_cut,df_lower_cut]\n",
    "for x in all_list:\n",
    "    print len(x)"
   ]
  },
  {
   "cell_type": "code",
   "execution_count": 427,
   "metadata": {},
   "outputs": [
    {
     "name": "stdout",
     "output_type": "stream",
     "text": [
      "Unnamed: 0       img/Sheer_Pleated-Front_Blouse/img_00000001.jp...\n",
      "total                                                        81476\n",
      "t_stripe                                                     12080\n",
      "t_floral                                                      7098\n",
      "f_lace                                                        6357\n",
      "f_chiffon                                                     6048\n",
      "p_long-sleeve                                                 5533\n",
      "p_collar                                                      4876\n",
      "f_cotton                                                      4410\n",
      "p_button                                                      4192\n",
      "p_pocket                                                      4005\n",
      "f_leather                                                     3767\n",
      "f_fur                                                         3767\n",
      "p_v-neck                                                      3756\n",
      "p_hooded                                                      3650\n",
      "p_zipper                                                      3623\n",
      "p_sleeveless                                                  3265\n",
      "f_denim                                                       2674\n",
      "t_dot                                                         2375\n",
      "dtype: object\n"
     ]
    }
   ],
   "source": [
    "order_col(df_upper)"
   ]
  },
  {
   "cell_type": "code",
   "execution_count": 428,
   "metadata": {},
   "outputs": [
    {
     "name": "stdout",
     "output_type": "stream",
     "text": [
      "Unnamed: 0       img/Sheer_Pleated-Front_Blouse/img_00000069.jp...\n",
      "f_fur                                                         1263\n",
      "f_leather                                                     1263\n",
      "p_long-sleeve                                                 1182\n",
      "f_chiffon                                                     1152\n",
      "p_collar                                                       981\n",
      "t_stripe                                                       826\n",
      "t_floral                                                       790\n",
      "f_lace                                                         749\n",
      "p_button                                                       672\n",
      "p_zipper                                                       590\n",
      "f_cotton                                                       584\n",
      "p_sleeveless                                                   520\n",
      "p_v-neck                                                       425\n",
      "p_hooded                                                       411\n",
      "p_pocket                                                       362\n",
      "t_dot                                                          329\n",
      "f_denim                                                        260\n",
      "dtype: object\n"
     ]
    }
   ],
   "source": [
    "order_col(df_upper_cut)"
   ]
  },
  {
   "cell_type": "code",
   "execution_count": 429,
   "metadata": {},
   "outputs": [
    {
     "name": "stdout",
     "output_type": "stream",
     "text": [
      "Unnamed: 0    img/Mineral_Wash_Mini_Skirt/img_00000001.jpgim...\n",
      "total                                                     40860\n",
      "f_denim                                                    8706\n",
      "t_floral                                                   4160\n",
      "t_stripe                                                   3371\n",
      "s_mini                                                     2979\n",
      "s_pencil                                                   2933\n",
      "f_pleated                                                  2862\n",
      "s_fit                                                      2651\n",
      "f_leather                                                  2559\n",
      "f_knit                                                     2536\n",
      "s_maxi                                                     1978\n",
      "f_cotton                                                   1782\n",
      "p_zipper                                                   1698\n",
      "s_midi                                                     1453\n",
      "t_dot                                                      1192\n",
      "dtype: object\n"
     ]
    }
   ],
   "source": [
    "order_col(df_lower)"
   ]
  },
  {
   "cell_type": "code",
   "execution_count": 430,
   "metadata": {},
   "outputs": [
    {
     "name": "stdout",
     "output_type": "stream",
     "text": [
      "Unnamed: 0    img/Mineral_Wash_Mini_Skirt/img_00000001.jpgim...\n",
      "f_denim                                                    2223\n",
      "s_pencil                                                   1688\n",
      "t_stripe                                                   1684\n",
      "s_mini                                                     1650\n",
      "t_floral                                                   1627\n",
      "f_pleated                                                  1558\n",
      "f_leather                                                  1290\n",
      "f_knit                                                     1240\n",
      "s_fit                                                      1189\n",
      "s_midi                                                      988\n",
      "p_zipper                                                    930\n",
      "s_maxi                                                      856\n",
      "f_cotton                                                    818\n",
      "t_dot                                                       496\n",
      "dtype: object\n"
     ]
    }
   ],
   "source": [
    "order_col(df_lower_cut)"
   ]
  },
  {
   "cell_type": "code",
   "execution_count": 388,
   "metadata": {
    "collapsed": true
   },
   "outputs": [],
   "source": [
    "for x in all_list:\n",
    "    try:\n",
    "        del x['total']\n",
    "    except:\n",
    "        pass\n",
    "    x['total'] = x.sum(axis=1,numeric_only = True)"
   ]
  },
  {
   "cell_type": "code",
   "execution_count": 389,
   "metadata": {
    "collapsed": true
   },
   "outputs": [],
   "source": [
    "\"\"\"\n",
    "function: oversample\n",
    "input: df1, df2, col_name, min_num\n",
    "output: df1 that is oversampled\n",
    "\n",
    "input the column name to oversample by the minimum number\n",
    "use data from df2\n",
    "\"\"\"\n",
    "\n",
    "def oversample(df1, df2, col_name, min_num):\n",
    "    temp_df = df2[(df2[col_name]==1) & (df2['total']==1)]\n",
    "    print \"x\", x\n",
    "    print \"temp_df length\" , len(temp_df)\n",
    "    # count of limited numbers\n",
    "    small_num = (df1[col_name] == 1).sum()\n",
    "    # the difference\n",
    "    to_add = abs(min_num - small_num)\n",
    "    temp_df = temp_df[:to_add]\n",
    "    \n",
    "    print \"small_num\", small_num\n",
    "    print \"to_add\", to_add\n",
    "    print \"temp_df_to_add_ length\" , len(temp_df)\n",
    "    return df1.append(temp_df)\n",
    "    "
   ]
  },
  {
   "cell_type": "code",
   "execution_count": 405,
   "metadata": {
    "collapsed": true
   },
   "outputs": [],
   "source": [
    "df_upper_final = df_upper_cut.copy()\n",
    "df_lower_final = df_lower_cut.copy()"
   ]
  },
  {
   "cell_type": "code",
   "execution_count": 406,
   "metadata": {
    "collapsed": true
   },
   "outputs": [],
   "source": [
    "u_list = list(df_upper_final)[1:-1]\n",
    "#print u_list\n",
    "#print list(df_lower_final)\n",
    "l_list = list(df_lower_final)[1:-1]\n",
    "#print l_list"
   ]
  },
  {
   "cell_type": "code",
   "execution_count": 407,
   "metadata": {
    "scrolled": true
   },
   "outputs": [
    {
     "name": "stdout",
     "output_type": "stream",
     "text": [
      "x t_floral\n",
      "temp_df length 4130\n",
      "small_num 790\n",
      "to_add 1510\n",
      "temp_df_to_add_ length 1510\n",
      "\n",
      "x t_stripe\n",
      "temp_df length 8209\n",
      "small_num 826\n",
      "to_add 1474\n",
      "temp_df_to_add_ length 1474\n",
      "\n",
      "x t_dot\n",
      "temp_df length 1336\n",
      "small_num 329\n",
      "to_add 1971\n",
      "temp_df_to_add_ length 1336\n",
      "\n",
      "x f_lace\n",
      "temp_df length 3605\n",
      "small_num 749\n",
      "to_add 1551\n",
      "temp_df_to_add_ length 1551\n",
      "\n",
      "x f_denim\n",
      "temp_df length 1739\n",
      "small_num 260\n",
      "to_add 2040\n",
      "temp_df_to_add_ length 1739\n",
      "\n",
      "x f_chiffon\n",
      "temp_df length 2694\n",
      "small_num 1152\n",
      "to_add 1148\n",
      "temp_df_to_add_ length 1148\n",
      "\n",
      "x f_cotton\n",
      "temp_df length 2303\n",
      "small_num 584\n",
      "to_add 1716\n",
      "temp_df_to_add_ length 1716\n",
      "\n",
      "x f_leather\n",
      "temp_df length 0\n",
      "small_num 1263\n",
      "to_add 1037\n",
      "temp_df_to_add_ length 0\n",
      "\n",
      "x f_fur\n",
      "temp_df length 0\n",
      "small_num 1263\n",
      "to_add 1037\n",
      "temp_df_to_add_ length 0\n",
      "\n",
      "x p_sleeveless\n",
      "temp_df length 1681\n",
      "small_num 520\n",
      "to_add 1780\n",
      "temp_df_to_add_ length 1681\n",
      "\n",
      "x p_long-sleeve\n",
      "temp_df length 2429\n",
      "small_num 1182\n",
      "to_add 1118\n",
      "temp_df_to_add_ length 1118\n",
      "\n",
      "x p_collar\n",
      "temp_df length 2486\n",
      "small_num 981\n",
      "to_add 1319\n",
      "temp_df_to_add_ length 1319\n",
      "\n",
      "x p_pocket\n",
      "temp_df length 2248\n",
      "small_num 362\n",
      "to_add 1938\n",
      "temp_df_to_add_ length 1938\n",
      "\n",
      "x p_v-neck\n",
      "temp_df length 2151\n",
      "small_num 425\n",
      "to_add 1875\n",
      "temp_df_to_add_ length 1875\n",
      "\n",
      "x p_button\n",
      "temp_df length 2168\n",
      "small_num 672\n",
      "to_add 1628\n",
      "temp_df_to_add_ length 1628\n",
      "\n",
      "x p_hooded\n",
      "temp_df length 2386\n",
      "small_num 411\n",
      "to_add 1889\n",
      "temp_df_to_add_ length 1889\n",
      "\n",
      "x p_zipper\n",
      "temp_df length 1928\n",
      "small_num 590\n",
      "to_add 1710\n",
      "temp_df_to_add_ length 1710\n",
      "\n"
     ]
    }
   ],
   "source": [
    "for x in u_list:\n",
    "    df_upper_final = oversample(df_upper_final, df_upper, x, 2300)\n",
    "    print \"\""
   ]
  },
  {
   "cell_type": "code",
   "execution_count": 408,
   "metadata": {},
   "outputs": [
    {
     "name": "stdout",
     "output_type": "stream",
     "text": [
      "Unnamed: 0       img/Sheer_Pleated-Front_Blouse/img_00000069.jp...\n",
      "total                                                        35991\n",
      "p_hooded                                                      2300\n",
      "t_floral                                                      2300\n",
      "p_v-neck                                                      2300\n",
      "p_pocket                                                      2300\n",
      "p_collar                                                      2300\n",
      "p_long-sleeve                                                 2300\n",
      "p_zipper                                                      2300\n",
      "p_button                                                      2300\n",
      "f_cotton                                                      2300\n",
      "f_chiffon                                                     2300\n",
      "f_lace                                                        2300\n",
      "t_stripe                                                      2300\n",
      "p_sleeveless                                                  2201\n",
      "f_denim                                                       1999\n",
      "t_dot                                                         1665\n",
      "f_leather                                                     1263\n",
      "f_fur                                                         1263\n",
      "dtype: object\n"
     ]
    },
    {
     "data": {
      "text/plain": [
       "27515"
      ]
     },
     "execution_count": 408,
     "metadata": {},
     "output_type": "execute_result"
    }
   ],
   "source": [
    "order_col(df_upper_final)\n",
    "len(df_upper_final)"
   ]
  },
  {
   "cell_type": "code",
   "execution_count": 409,
   "metadata": {
    "scrolled": true
   },
   "outputs": [
    {
     "name": "stdout",
     "output_type": "stream",
     "text": [
      "x t_floral\n",
      "temp_df length 2533\n",
      "small_num 1627\n",
      "to_add 673\n",
      "temp_df_to_add_ length 673\n",
      "\n",
      "x t_stripe\n",
      "temp_df length 1687\n",
      "small_num 1684\n",
      "to_add 616\n",
      "temp_df_to_add_ length 616\n",
      "\n",
      "x t_dot\n",
      "temp_df length 696\n",
      "small_num 496\n",
      "to_add 1804\n",
      "temp_df_to_add_ length 696\n",
      "\n",
      "x f_denim\n",
      "temp_df length 6483\n",
      "small_num 2223\n",
      "to_add 77\n",
      "temp_df_to_add_ length 77\n",
      "\n",
      "x f_leather\n",
      "temp_df length 1269\n",
      "small_num 1290\n",
      "to_add 1010\n",
      "temp_df_to_add_ length 1010\n",
      "\n",
      "x f_cotton\n",
      "temp_df length 964\n",
      "small_num 818\n",
      "to_add 1482\n",
      "temp_df_to_add_ length 964\n",
      "\n",
      "x f_knit\n",
      "temp_df length 1296\n",
      "small_num 1240\n",
      "to_add 1060\n",
      "temp_df_to_add_ length 1060\n",
      "\n",
      "x f_pleated\n",
      "temp_df length 1304\n",
      "small_num 1558\n",
      "to_add 742\n",
      "temp_df_to_add_ length 742\n",
      "\n",
      "x s_fit\n",
      "temp_df length 1462\n",
      "small_num 1189\n",
      "to_add 1111\n",
      "temp_df_to_add_ length 1111\n",
      "\n",
      "x s_pencil\n",
      "temp_df length 1245\n",
      "small_num 1688\n",
      "to_add 612\n",
      "temp_df_to_add_ length 612\n",
      "\n",
      "x s_midi\n",
      "temp_df length 465\n",
      "small_num 988\n",
      "to_add 1312\n",
      "temp_df_to_add_ length 465\n",
      "\n",
      "x s_mini\n",
      "temp_df length 1329\n",
      "small_num 1650\n",
      "to_add 650\n",
      "temp_df_to_add_ length 650\n",
      "\n",
      "x s_maxi\n",
      "temp_df length 1122\n",
      "small_num 856\n",
      "to_add 1444\n",
      "temp_df_to_add_ length 1122\n",
      "\n",
      "x p_zipper\n",
      "temp_df length 768\n",
      "small_num 930\n",
      "to_add 1370\n",
      "temp_df_to_add_ length 768\n",
      "\n"
     ]
    }
   ],
   "source": [
    "for x in l_list:\n",
    "    df_lower_final = oversample(df_lower_final, df_lower, x, 2300)\n",
    "    print \"\"\n"
   ]
  },
  {
   "cell_type": "code",
   "execution_count": 410,
   "metadata": {},
   "outputs": [
    {
     "name": "stdout",
     "output_type": "stream",
     "text": [
      "Unnamed: 0    img/Mineral_Wash_Mini_Skirt/img_00000001.jpgim...\n",
      "total                                                     28803\n",
      "s_mini                                                     2300\n",
      "s_pencil                                                   2300\n",
      "s_fit                                                      2300\n",
      "f_pleated                                                  2300\n",
      "f_knit                                                     2300\n",
      "f_leather                                                  2300\n",
      "f_denim                                                    2300\n",
      "t_stripe                                                   2300\n",
      "t_floral                                                   2300\n",
      "s_maxi                                                     1978\n",
      "f_cotton                                                   1782\n",
      "p_zipper                                                   1698\n",
      "s_midi                                                     1453\n",
      "t_dot                                                      1192\n",
      "dtype: object\n"
     ]
    }
   ],
   "source": [
    "order_col(df_lower_final)\n",
    "#len(df_upper_final)"
   ]
  },
  {
   "cell_type": "code",
   "execution_count": 411,
   "metadata": {},
   "outputs": [
    {
     "name": "stdout",
     "output_type": "stream",
     "text": [
      "27515\n",
      "18902\n"
     ]
    }
   ],
   "source": [
    "print len(df_upper_final)\n",
    "print len(df_lower_final)"
   ]
  },
  {
   "cell_type": "code",
   "execution_count": 412,
   "metadata": {},
   "outputs": [
    {
     "data": {
      "text/html": [
       "<div>\n",
       "<style>\n",
       "    .dataframe thead tr:only-child th {\n",
       "        text-align: right;\n",
       "    }\n",
       "\n",
       "    .dataframe thead th {\n",
       "        text-align: left;\n",
       "    }\n",
       "\n",
       "    .dataframe tbody tr th {\n",
       "        vertical-align: top;\n",
       "    }\n",
       "</style>\n",
       "<table border=\"1\" class=\"dataframe\">\n",
       "  <thead>\n",
       "    <tr style=\"text-align: right;\">\n",
       "      <th></th>\n",
       "      <th>Unnamed: 0</th>\n",
       "      <th>t_floral</th>\n",
       "      <th>t_stripe</th>\n",
       "      <th>t_dot</th>\n",
       "      <th>f_lace</th>\n",
       "      <th>f_denim</th>\n",
       "      <th>f_chiffon</th>\n",
       "      <th>f_cotton</th>\n",
       "      <th>f_leather</th>\n",
       "      <th>f_fur</th>\n",
       "      <th>p_sleeveless</th>\n",
       "      <th>p_long-sleeve</th>\n",
       "      <th>p_collar</th>\n",
       "      <th>p_pocket</th>\n",
       "      <th>p_v-neck</th>\n",
       "      <th>p_button</th>\n",
       "      <th>p_hooded</th>\n",
       "      <th>p_zipper</th>\n",
       "      <th>total</th>\n",
       "    </tr>\n",
       "  </thead>\n",
       "  <tbody>\n",
       "    <tr>\n",
       "      <th>0</th>\n",
       "      <td>img/Sheer_Pleated-Front_Blouse/img_00000069.jpg</td>\n",
       "      <td>0</td>\n",
       "      <td>0</td>\n",
       "      <td>0</td>\n",
       "      <td>0</td>\n",
       "      <td>0</td>\n",
       "      <td>1</td>\n",
       "      <td>0</td>\n",
       "      <td>0</td>\n",
       "      <td>0</td>\n",
       "      <td>1</td>\n",
       "      <td>0</td>\n",
       "      <td>0</td>\n",
       "      <td>0</td>\n",
       "      <td>0</td>\n",
       "      <td>1</td>\n",
       "      <td>0</td>\n",
       "      <td>0</td>\n",
       "      <td>3</td>\n",
       "    </tr>\n",
       "    <tr>\n",
       "      <th>1</th>\n",
       "      <td>img/Sheer_Pleated-Front_Blouse/img_00000073.jpg</td>\n",
       "      <td>1</td>\n",
       "      <td>1</td>\n",
       "      <td>0</td>\n",
       "      <td>0</td>\n",
       "      <td>0</td>\n",
       "      <td>0</td>\n",
       "      <td>1</td>\n",
       "      <td>0</td>\n",
       "      <td>0</td>\n",
       "      <td>0</td>\n",
       "      <td>0</td>\n",
       "      <td>0</td>\n",
       "      <td>0</td>\n",
       "      <td>0</td>\n",
       "      <td>0</td>\n",
       "      <td>0</td>\n",
       "      <td>0</td>\n",
       "      <td>3</td>\n",
       "    </tr>\n",
       "    <tr>\n",
       "      <th>2</th>\n",
       "      <td>img/Sheer_Pleated-Front_Blouse/img_00000084.jpg</td>\n",
       "      <td>0</td>\n",
       "      <td>0</td>\n",
       "      <td>0</td>\n",
       "      <td>0</td>\n",
       "      <td>0</td>\n",
       "      <td>1</td>\n",
       "      <td>0</td>\n",
       "      <td>0</td>\n",
       "      <td>0</td>\n",
       "      <td>1</td>\n",
       "      <td>0</td>\n",
       "      <td>1</td>\n",
       "      <td>0</td>\n",
       "      <td>0</td>\n",
       "      <td>0</td>\n",
       "      <td>0</td>\n",
       "      <td>0</td>\n",
       "      <td>3</td>\n",
       "    </tr>\n",
       "    <tr>\n",
       "      <th>3</th>\n",
       "      <td>img/Sheer_Pleated-Front_Blouse/img_00000144.jpg</td>\n",
       "      <td>0</td>\n",
       "      <td>0</td>\n",
       "      <td>0</td>\n",
       "      <td>0</td>\n",
       "      <td>0</td>\n",
       "      <td>0</td>\n",
       "      <td>0</td>\n",
       "      <td>0</td>\n",
       "      <td>0</td>\n",
       "      <td>1</td>\n",
       "      <td>1</td>\n",
       "      <td>0</td>\n",
       "      <td>0</td>\n",
       "      <td>1</td>\n",
       "      <td>0</td>\n",
       "      <td>0</td>\n",
       "      <td>0</td>\n",
       "      <td>3</td>\n",
       "    </tr>\n",
       "    <tr>\n",
       "      <th>4</th>\n",
       "      <td>img/Sheer_Pleated-Front_Blouse/img_00000149.jpg</td>\n",
       "      <td>0</td>\n",
       "      <td>0</td>\n",
       "      <td>0</td>\n",
       "      <td>0</td>\n",
       "      <td>0</td>\n",
       "      <td>1</td>\n",
       "      <td>0</td>\n",
       "      <td>0</td>\n",
       "      <td>0</td>\n",
       "      <td>0</td>\n",
       "      <td>0</td>\n",
       "      <td>1</td>\n",
       "      <td>0</td>\n",
       "      <td>0</td>\n",
       "      <td>1</td>\n",
       "      <td>0</td>\n",
       "      <td>0</td>\n",
       "      <td>3</td>\n",
       "    </tr>\n",
       "  </tbody>\n",
       "</table>\n",
       "</div>"
      ],
      "text/plain": [
       "                                        Unnamed: 0  t_floral  t_stripe  t_dot  \\\n",
       "0  img/Sheer_Pleated-Front_Blouse/img_00000069.jpg         0         0      0   \n",
       "1  img/Sheer_Pleated-Front_Blouse/img_00000073.jpg         1         1      0   \n",
       "2  img/Sheer_Pleated-Front_Blouse/img_00000084.jpg         0         0      0   \n",
       "3  img/Sheer_Pleated-Front_Blouse/img_00000144.jpg         0         0      0   \n",
       "4  img/Sheer_Pleated-Front_Blouse/img_00000149.jpg         0         0      0   \n",
       "\n",
       "   f_lace  f_denim  f_chiffon  f_cotton  f_leather  f_fur  p_sleeveless  \\\n",
       "0       0        0          1         0          0      0             1   \n",
       "1       0        0          0         1          0      0             0   \n",
       "2       0        0          1         0          0      0             1   \n",
       "3       0        0          0         0          0      0             1   \n",
       "4       0        0          1         0          0      0             0   \n",
       "\n",
       "   p_long-sleeve  p_collar  p_pocket  p_v-neck  p_button  p_hooded  p_zipper  \\\n",
       "0              0         0         0         0         1         0         0   \n",
       "1              0         0         0         0         0         0         0   \n",
       "2              0         1         0         0         0         0         0   \n",
       "3              1         0         0         1         0         0         0   \n",
       "4              0         1         0         0         1         0         0   \n",
       "\n",
       "   total  \n",
       "0      3  \n",
       "1      3  \n",
       "2      3  \n",
       "3      3  \n",
       "4      3  "
      ]
     },
     "execution_count": 412,
     "metadata": {},
     "output_type": "execute_result"
    }
   ],
   "source": [
    "df_upper_final.head()"
   ]
  },
  {
   "cell_type": "code",
   "execution_count": 419,
   "metadata": {
    "collapsed": true
   },
   "outputs": [],
   "source": [
    "df_u_c = df_upper_final.copy()\n",
    "df_l_c = df_lower_final.copy()"
   ]
  },
  {
   "cell_type": "code",
   "execution_count": 420,
   "metadata": {
    "collapsed": true
   },
   "outputs": [],
   "source": [
    "df_u_c.set_index('Unnamed: 0', inplace=True)\n",
    "df_l_c.set_index('Unnamed: 0', inplace=True)\n"
   ]
  },
  {
   "cell_type": "code",
   "execution_count": 421,
   "metadata": {
    "collapsed": true
   },
   "outputs": [],
   "source": [
    "df_u_c = pd.merge(df_u_c, df2, left_index = True, right_index = True)\n",
    "df_l_c = pd.merge(df_l_c, df2, left_index = True, right_index = True)"
   ]
  },
  {
   "cell_type": "code",
   "execution_count": 422,
   "metadata": {
    "collapsed": true
   },
   "outputs": [],
   "source": [
    "del df_u_c['total']\n",
    "del df_l_c['total']\n",
    "\n",
    "df_u_c.to_csv('category-upper-balanced.txt', sep=':')\n",
    "df_l_c.to_csv('category-lower-balanced.txt', sep=':')"
   ]
  },
  {
   "cell_type": "code",
   "execution_count": 423,
   "metadata": {},
   "outputs": [
    {
     "data": {
      "text/html": [
       "<div>\n",
       "<style>\n",
       "    .dataframe thead tr:only-child th {\n",
       "        text-align: right;\n",
       "    }\n",
       "\n",
       "    .dataframe thead th {\n",
       "        text-align: left;\n",
       "    }\n",
       "\n",
       "    .dataframe tbody tr th {\n",
       "        vertical-align: top;\n",
       "    }\n",
       "</style>\n",
       "<table border=\"1\" class=\"dataframe\">\n",
       "  <thead>\n",
       "    <tr style=\"text-align: right;\">\n",
       "      <th></th>\n",
       "      <th>t_floral</th>\n",
       "      <th>t_stripe</th>\n",
       "      <th>t_dot</th>\n",
       "      <th>f_lace</th>\n",
       "      <th>f_denim</th>\n",
       "      <th>f_chiffon</th>\n",
       "      <th>f_cotton</th>\n",
       "      <th>f_leather</th>\n",
       "      <th>f_fur</th>\n",
       "      <th>p_sleeveless</th>\n",
       "      <th>p_long-sleeve</th>\n",
       "      <th>p_collar</th>\n",
       "      <th>p_pocket</th>\n",
       "      <th>p_v-neck</th>\n",
       "      <th>p_button</th>\n",
       "      <th>p_hooded</th>\n",
       "      <th>p_zipper</th>\n",
       "      <th>category</th>\n",
       "      <th>upper_lower</th>\n",
       "    </tr>\n",
       "  </thead>\n",
       "  <tbody>\n",
       "    <tr>\n",
       "      <th>img/Sheer_Pleated-Front_Blouse/img_00000069.jpg</th>\n",
       "      <td>0</td>\n",
       "      <td>0</td>\n",
       "      <td>0</td>\n",
       "      <td>0</td>\n",
       "      <td>0</td>\n",
       "      <td>1</td>\n",
       "      <td>0</td>\n",
       "      <td>0</td>\n",
       "      <td>0</td>\n",
       "      <td>1</td>\n",
       "      <td>0</td>\n",
       "      <td>0</td>\n",
       "      <td>0</td>\n",
       "      <td>0</td>\n",
       "      <td>1</td>\n",
       "      <td>0</td>\n",
       "      <td>0</td>\n",
       "      <td>3</td>\n",
       "      <td>1</td>\n",
       "    </tr>\n",
       "    <tr>\n",
       "      <th>img/Sheer_Pleated-Front_Blouse/img_00000073.jpg</th>\n",
       "      <td>1</td>\n",
       "      <td>1</td>\n",
       "      <td>0</td>\n",
       "      <td>0</td>\n",
       "      <td>0</td>\n",
       "      <td>0</td>\n",
       "      <td>1</td>\n",
       "      <td>0</td>\n",
       "      <td>0</td>\n",
       "      <td>0</td>\n",
       "      <td>0</td>\n",
       "      <td>0</td>\n",
       "      <td>0</td>\n",
       "      <td>0</td>\n",
       "      <td>0</td>\n",
       "      <td>0</td>\n",
       "      <td>0</td>\n",
       "      <td>3</td>\n",
       "      <td>1</td>\n",
       "    </tr>\n",
       "    <tr>\n",
       "      <th>img/Sheer_Pleated-Front_Blouse/img_00000084.jpg</th>\n",
       "      <td>0</td>\n",
       "      <td>0</td>\n",
       "      <td>0</td>\n",
       "      <td>0</td>\n",
       "      <td>0</td>\n",
       "      <td>1</td>\n",
       "      <td>0</td>\n",
       "      <td>0</td>\n",
       "      <td>0</td>\n",
       "      <td>1</td>\n",
       "      <td>0</td>\n",
       "      <td>1</td>\n",
       "      <td>0</td>\n",
       "      <td>0</td>\n",
       "      <td>0</td>\n",
       "      <td>0</td>\n",
       "      <td>0</td>\n",
       "      <td>3</td>\n",
       "      <td>1</td>\n",
       "    </tr>\n",
       "    <tr>\n",
       "      <th>img/Sheer_Pleated-Front_Blouse/img_00000144.jpg</th>\n",
       "      <td>0</td>\n",
       "      <td>0</td>\n",
       "      <td>0</td>\n",
       "      <td>0</td>\n",
       "      <td>0</td>\n",
       "      <td>0</td>\n",
       "      <td>0</td>\n",
       "      <td>0</td>\n",
       "      <td>0</td>\n",
       "      <td>1</td>\n",
       "      <td>1</td>\n",
       "      <td>0</td>\n",
       "      <td>0</td>\n",
       "      <td>1</td>\n",
       "      <td>0</td>\n",
       "      <td>0</td>\n",
       "      <td>0</td>\n",
       "      <td>3</td>\n",
       "      <td>1</td>\n",
       "    </tr>\n",
       "    <tr>\n",
       "      <th>img/Sheer_Pleated-Front_Blouse/img_00000149.jpg</th>\n",
       "      <td>0</td>\n",
       "      <td>0</td>\n",
       "      <td>0</td>\n",
       "      <td>0</td>\n",
       "      <td>0</td>\n",
       "      <td>1</td>\n",
       "      <td>0</td>\n",
       "      <td>0</td>\n",
       "      <td>0</td>\n",
       "      <td>0</td>\n",
       "      <td>0</td>\n",
       "      <td>1</td>\n",
       "      <td>0</td>\n",
       "      <td>0</td>\n",
       "      <td>1</td>\n",
       "      <td>0</td>\n",
       "      <td>0</td>\n",
       "      <td>3</td>\n",
       "      <td>1</td>\n",
       "    </tr>\n",
       "  </tbody>\n",
       "</table>\n",
       "</div>"
      ],
      "text/plain": [
       "                                                 t_floral  t_stripe  t_dot  \\\n",
       "img/Sheer_Pleated-Front_Blouse/img_00000069.jpg         0         0      0   \n",
       "img/Sheer_Pleated-Front_Blouse/img_00000073.jpg         1         1      0   \n",
       "img/Sheer_Pleated-Front_Blouse/img_00000084.jpg         0         0      0   \n",
       "img/Sheer_Pleated-Front_Blouse/img_00000144.jpg         0         0      0   \n",
       "img/Sheer_Pleated-Front_Blouse/img_00000149.jpg         0         0      0   \n",
       "\n",
       "                                                 f_lace  f_denim  f_chiffon  \\\n",
       "img/Sheer_Pleated-Front_Blouse/img_00000069.jpg       0        0          1   \n",
       "img/Sheer_Pleated-Front_Blouse/img_00000073.jpg       0        0          0   \n",
       "img/Sheer_Pleated-Front_Blouse/img_00000084.jpg       0        0          1   \n",
       "img/Sheer_Pleated-Front_Blouse/img_00000144.jpg       0        0          0   \n",
       "img/Sheer_Pleated-Front_Blouse/img_00000149.jpg       0        0          1   \n",
       "\n",
       "                                                 f_cotton  f_leather  f_fur  \\\n",
       "img/Sheer_Pleated-Front_Blouse/img_00000069.jpg         0          0      0   \n",
       "img/Sheer_Pleated-Front_Blouse/img_00000073.jpg         1          0      0   \n",
       "img/Sheer_Pleated-Front_Blouse/img_00000084.jpg         0          0      0   \n",
       "img/Sheer_Pleated-Front_Blouse/img_00000144.jpg         0          0      0   \n",
       "img/Sheer_Pleated-Front_Blouse/img_00000149.jpg         0          0      0   \n",
       "\n",
       "                                                 p_sleeveless  p_long-sleeve  \\\n",
       "img/Sheer_Pleated-Front_Blouse/img_00000069.jpg             1              0   \n",
       "img/Sheer_Pleated-Front_Blouse/img_00000073.jpg             0              0   \n",
       "img/Sheer_Pleated-Front_Blouse/img_00000084.jpg             1              0   \n",
       "img/Sheer_Pleated-Front_Blouse/img_00000144.jpg             1              1   \n",
       "img/Sheer_Pleated-Front_Blouse/img_00000149.jpg             0              0   \n",
       "\n",
       "                                                 p_collar  p_pocket  p_v-neck  \\\n",
       "img/Sheer_Pleated-Front_Blouse/img_00000069.jpg         0         0         0   \n",
       "img/Sheer_Pleated-Front_Blouse/img_00000073.jpg         0         0         0   \n",
       "img/Sheer_Pleated-Front_Blouse/img_00000084.jpg         1         0         0   \n",
       "img/Sheer_Pleated-Front_Blouse/img_00000144.jpg         0         0         1   \n",
       "img/Sheer_Pleated-Front_Blouse/img_00000149.jpg         1         0         0   \n",
       "\n",
       "                                                 p_button  p_hooded  p_zipper  \\\n",
       "img/Sheer_Pleated-Front_Blouse/img_00000069.jpg         1         0         0   \n",
       "img/Sheer_Pleated-Front_Blouse/img_00000073.jpg         0         0         0   \n",
       "img/Sheer_Pleated-Front_Blouse/img_00000084.jpg         0         0         0   \n",
       "img/Sheer_Pleated-Front_Blouse/img_00000144.jpg         0         0         0   \n",
       "img/Sheer_Pleated-Front_Blouse/img_00000149.jpg         1         0         0   \n",
       "\n",
       "                                                 category upper_lower  \n",
       "img/Sheer_Pleated-Front_Blouse/img_00000069.jpg         3           1  \n",
       "img/Sheer_Pleated-Front_Blouse/img_00000073.jpg         3           1  \n",
       "img/Sheer_Pleated-Front_Blouse/img_00000084.jpg         3           1  \n",
       "img/Sheer_Pleated-Front_Blouse/img_00000144.jpg         3           1  \n",
       "img/Sheer_Pleated-Front_Blouse/img_00000149.jpg         3           1  "
      ]
     },
     "execution_count": 423,
     "metadata": {},
     "output_type": "execute_result"
    }
   ],
   "source": [
    "df_u_c.head()"
   ]
  },
  {
   "cell_type": "code",
   "execution_count": null,
   "metadata": {
    "collapsed": true
   },
   "outputs": [],
   "source": []
  }
 ],
 "metadata": {
  "kernelspec": {
   "display_name": "Python 3",
   "language": "python",
   "name": "python3"
  },
  "language_info": {
   "codemirror_mode": {
    "name": "ipython",
    "version": 3
   },
   "file_extension": ".py",
   "mimetype": "text/x-python",
   "name": "python",
   "nbconvert_exporter": "python",
   "pygments_lexer": "ipython3",
   "version": "3.8.3"
  }
 },
 "nbformat": 4,
 "nbformat_minor": 2
}
